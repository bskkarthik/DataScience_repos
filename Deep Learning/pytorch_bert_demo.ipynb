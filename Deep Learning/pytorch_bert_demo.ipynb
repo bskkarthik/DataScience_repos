{
  "nbformat": 4,
  "nbformat_minor": 0,
  "metadata": {
    "colab": {
      "name": "pytorch_bert_demo.ipynb",
      "provenance": [],
      "authorship_tag": "ABX9TyOe2GQzdpvAu1/ojJvQkaxs",
      "include_colab_link": true
    },
    "kernelspec": {
      "name": "python3",
      "display_name": "Python 3"
    },
    "accelerator": "GPU"
  },
  "cells": [
    {
      "cell_type": "markdown",
      "metadata": {
        "id": "view-in-github",
        "colab_type": "text"
      },
      "source": [
        "<a href=\"https://colab.research.google.com/github/bskkarthik/DataScience_repos/blob/master/pytorch_bert_demo.ipynb\" target=\"_parent\"><img src=\"https://colab.research.google.com/assets/colab-badge.svg\" alt=\"Open In Colab\"/></a>"
      ]
    },
    {
      "cell_type": "code",
      "metadata": {
        "id": "rm0JPlVJmclK",
        "colab_type": "code",
        "colab": {}
      },
      "source": [
        "#!pip install transformers"
      ],
      "execution_count": 0,
      "outputs": []
    },
    {
      "cell_type": "code",
      "metadata": {
        "id": "8IgDX3XGmhxp",
        "colab_type": "code",
        "colab": {}
      },
      "source": [
        "import torch\n",
        "from transformers import BertModel, BertTokenizer"
      ],
      "execution_count": 0,
      "outputs": []
    },
    {
      "cell_type": "markdown",
      "metadata": {
        "id": "Ww0j2dJwu73d",
        "colab_type": "text"
      },
      "source": [
        "The architecture of BERT is the same as the encoder of a transformer network. It mainly consists of a series of self-attention layers (12 in case of the base model and 24 in the large model) combined with layer normalization and residual layers."
      ]
    },
    {
      "cell_type": "markdown",
      "metadata": {
        "id": "bUv7_VlZvUSU",
        "colab_type": "text"
      },
      "source": [
        ""
      ]
    },
    {
      "cell_type": "code",
      "metadata": {
        "id": "9BRfg9H3mvgj",
        "colab_type": "code",
        "colab": {}
      },
      "source": [
        "#Create the instance of BertModel\n",
        "bert_model = BertModel.from_pretrained('bert-base-uncased')\n",
        "#Create the instance of tokenizer\n",
        "tokenizer = BertTokenizer.from_pretrained('bert-base-uncased')"
      ],
      "execution_count": 0,
      "outputs": []
    },
    {
      "cell_type": "code",
      "metadata": {
        "id": "FesLRyW9oTjs",
        "colab_type": "code",
        "colab": {
          "base_uri": "https://localhost:8080/",
          "height": 34
        },
        "outputId": "828f3d7b-9347-4fab-d49b-9f020c47b6d1"
      },
      "source": [
        "#Specifying the maximum length\n",
        "T = 12\n",
        "sentence = \"I study data science.\"\n",
        "#Step 1 : Tokenize\n",
        "tokens = tokenizer.tokenize(sentence)\n",
        "tokens"
      ],
      "execution_count": 30,
      "outputs": [
        {
          "output_type": "execute_result",
          "data": {
            "text/plain": [
              "['i', 'study', 'data', 'science', '.']"
            ]
          },
          "metadata": {
            "tags": []
          },
          "execution_count": 30
        }
      ]
    },
    {
      "cell_type": "code",
      "metadata": {
        "id": "N3djrXkzpVb2",
        "colab_type": "code",
        "colab": {
          "base_uri": "https://localhost:8080/",
          "height": 34
        },
        "outputId": "26604b31-63b9-493e-f347-441f7891c0cc"
      },
      "source": [
        "# Step 2 : Add [CLS] and [SEP]\n",
        "tokens = ['[CLS]'] + tokens + ['[SEP]']\n",
        "tokens"
      ],
      "execution_count": 31,
      "outputs": [
        {
          "output_type": "execute_result",
          "data": {
            "text/plain": [
              "['[CLS]', 'i', 'study', 'data', 'science', '.', '[SEP]']"
            ]
          },
          "metadata": {
            "tags": []
          },
          "execution_count": 31
        }
      ]
    },
    {
      "cell_type": "code",
      "metadata": {
        "id": "mr5lrZpRpzug",
        "colab_type": "code",
        "colab": {
          "base_uri": "https://localhost:8080/",
          "height": 221
        },
        "outputId": "bf6e0290-9285-46ff-91f6-be564140a32c"
      },
      "source": [
        "# Step 3 : Pad tokens\n",
        "padded_tokens = tokens + ['[PAD]' for _ in range(T - len(tokens))]\n",
        "padded_tokens"
      ],
      "execution_count": 32,
      "outputs": [
        {
          "output_type": "execute_result",
          "data": {
            "text/plain": [
              "['[CLS]',\n",
              " 'i',\n",
              " 'study',\n",
              " 'data',\n",
              " 'science',\n",
              " '.',\n",
              " '[SEP]',\n",
              " '[PAD]',\n",
              " '[PAD]',\n",
              " '[PAD]',\n",
              " '[PAD]',\n",
              " '[PAD]']"
            ]
          },
          "metadata": {
            "tags": []
          },
          "execution_count": 32
        }
      ]
    },
    {
      "cell_type": "code",
      "metadata": {
        "id": "HQtnwS2KqtoY",
        "colab_type": "code",
        "colab": {
          "base_uri": "https://localhost:8080/",
          "height": 34
        },
        "outputId": "3e859716-9963-41be-abef-b977d8a3f377"
      },
      "source": [
        "attn_mask = [1 if token!='[PAD]' else 0 for token in padded_tokens]\n",
        "attn_mask"
      ],
      "execution_count": 33,
      "outputs": [
        {
          "output_type": "execute_result",
          "data": {
            "text/plain": [
              "[1, 1, 1, 1, 1, 1, 1, 0, 0, 0, 0, 0]"
            ]
          },
          "metadata": {
            "tags": []
          },
          "execution_count": 33
        }
      ]
    },
    {
      "cell_type": "code",
      "metadata": {
        "id": "Wwb0sQnPrrdb",
        "colab_type": "code",
        "colab": {
          "base_uri": "https://localhost:8080/",
          "height": 34
        },
        "outputId": "026567e0-5d42-408b-f5c4-23f3bd99d5ac"
      },
      "source": [
        "# Step 4 Segment ids\n",
        "seq_ids = [0 for _ in range(len(padded_tokens))] # optional\n",
        "# Step 5  Get BERT vocabulary index for each token\n",
        "token_ids = tokenizer.convert_tokens_to_ids(padded_tokens)\n",
        "token_ids"
      ],
      "execution_count": 34,
      "outputs": [
        {
          "output_type": "execute_result",
          "data": {
            "text/plain": [
              "[101, 1045, 2817, 2951, 2671, 1012, 102, 0, 0, 0, 0, 0]"
            ]
          },
          "metadata": {
            "tags": []
          },
          "execution_count": 34
        }
      ]
    },
    {
      "cell_type": "code",
      "metadata": {
        "id": "KAhfE65Nsxmh",
        "colab_type": "code",
        "colab": {}
      },
      "source": [
        "#Converting everything to torch tensors before feeding them to bert_model\n",
        "token_ids = torch.tensor(token_ids).unsqueeze(0) #Shape [1, 12]\n",
        "attn_mask = torch.tensor(attn_mask).unsqueeze(0) #Shape [1, 12]\n",
        "seq_ids = torch.tensor(seq_ids).unsqueeze(0) #Shape [1, 12]"
      ],
      "execution_count": 0,
      "outputs": []
    },
    {
      "cell_type": "code",
      "metadata": {
        "id": "hoGA-cyUtdCy",
        "colab_type": "code",
        "colab": {
          "base_uri": "https://localhost:8080/",
          "height": 51
        },
        "outputId": "d6e179ec-8f9d-4176-9c06-0baf7f883cbc"
      },
      "source": [
        "# Feed them to BERT\n",
        "hidden_reps , cls_head = bert_model(token_ids, attention_mask=attn_mask,token_type_ids = seq_ids)\n",
        "print(hidden_reps.shape)\n",
        "print(cls_head.shape)"
      ],
      "execution_count": 36,
      "outputs": [
        {
          "output_type": "stream",
          "text": [
            "torch.Size([1, 12, 768])\n",
            "torch.Size([1, 768])\n"
          ],
          "name": "stdout"
        }
      ]
    },
    {
      "cell_type": "code",
      "metadata": {
        "id": "E5QyjeY7t9Zj",
        "colab_type": "code",
        "colab": {}
      },
      "source": [
        ""
      ],
      "execution_count": 0,
      "outputs": []
    }
  ]
}