{
 "cells": [
  {
   "cell_type": "code",
   "execution_count": 1,
   "metadata": {},
   "outputs": [],
   "source": [
    "import tensorflow as tf\n",
    "import pandas as pd"
   ]
  },
  {
   "cell_type": "code",
   "execution_count": 2,
   "metadata": {},
   "outputs": [
    {
     "data": {
      "text/plain": [
       "'2.0.0'"
      ]
     },
     "execution_count": 2,
     "metadata": {},
     "output_type": "execute_result"
    }
   ],
   "source": [
    "tf.__version__"
   ]
  },
  {
   "cell_type": "code",
   "execution_count": 3,
   "metadata": {},
   "outputs": [],
   "source": [
    "cols = ['price', 'maint', 'doors', 'persons', 'lug_capacity', 'safety','output']\n",
    "cars = pd.read_csv('car_evaluation.csv', names=cols, header=None)"
   ]
  },
  {
   "cell_type": "code",
   "execution_count": 4,
   "metadata": {},
   "outputs": [
    {
     "data": {
      "text/html": [
       "<div>\n",
       "<style scoped>\n",
       "    .dataframe tbody tr th:only-of-type {\n",
       "        vertical-align: middle;\n",
       "    }\n",
       "\n",
       "    .dataframe tbody tr th {\n",
       "        vertical-align: top;\n",
       "    }\n",
       "\n",
       "    .dataframe thead th {\n",
       "        text-align: right;\n",
       "    }\n",
       "</style>\n",
       "<table border=\"1\" class=\"dataframe\">\n",
       "  <thead>\n",
       "    <tr style=\"text-align: right;\">\n",
       "      <th></th>\n",
       "      <th>price</th>\n",
       "      <th>maint</th>\n",
       "      <th>doors</th>\n",
       "      <th>persons</th>\n",
       "      <th>lug_capacity</th>\n",
       "      <th>safety</th>\n",
       "      <th>output</th>\n",
       "    </tr>\n",
       "  </thead>\n",
       "  <tbody>\n",
       "    <tr>\n",
       "      <td>0</td>\n",
       "      <td>vhigh</td>\n",
       "      <td>vhigh</td>\n",
       "      <td>2</td>\n",
       "      <td>2</td>\n",
       "      <td>small</td>\n",
       "      <td>low</td>\n",
       "      <td>unacc</td>\n",
       "    </tr>\n",
       "    <tr>\n",
       "      <td>1</td>\n",
       "      <td>vhigh</td>\n",
       "      <td>vhigh</td>\n",
       "      <td>2</td>\n",
       "      <td>2</td>\n",
       "      <td>small</td>\n",
       "      <td>med</td>\n",
       "      <td>unacc</td>\n",
       "    </tr>\n",
       "    <tr>\n",
       "      <td>2</td>\n",
       "      <td>vhigh</td>\n",
       "      <td>vhigh</td>\n",
       "      <td>2</td>\n",
       "      <td>2</td>\n",
       "      <td>small</td>\n",
       "      <td>high</td>\n",
       "      <td>unacc</td>\n",
       "    </tr>\n",
       "    <tr>\n",
       "      <td>3</td>\n",
       "      <td>vhigh</td>\n",
       "      <td>vhigh</td>\n",
       "      <td>2</td>\n",
       "      <td>2</td>\n",
       "      <td>med</td>\n",
       "      <td>low</td>\n",
       "      <td>unacc</td>\n",
       "    </tr>\n",
       "    <tr>\n",
       "      <td>4</td>\n",
       "      <td>vhigh</td>\n",
       "      <td>vhigh</td>\n",
       "      <td>2</td>\n",
       "      <td>2</td>\n",
       "      <td>med</td>\n",
       "      <td>med</td>\n",
       "      <td>unacc</td>\n",
       "    </tr>\n",
       "  </tbody>\n",
       "</table>\n",
       "</div>"
      ],
      "text/plain": [
       "   price  maint doors persons lug_capacity safety output\n",
       "0  vhigh  vhigh     2       2        small    low  unacc\n",
       "1  vhigh  vhigh     2       2        small    med  unacc\n",
       "2  vhigh  vhigh     2       2        small   high  unacc\n",
       "3  vhigh  vhigh     2       2          med    low  unacc\n",
       "4  vhigh  vhigh     2       2          med    med  unacc"
      ]
     },
     "execution_count": 4,
     "metadata": {},
     "output_type": "execute_result"
    }
   ],
   "source": [
    "cars.head()"
   ]
  },
  {
   "cell_type": "code",
   "execution_count": 18,
   "metadata": {},
   "outputs": [
    {
     "data": {
      "text/plain": [
       "unacc    1210\n",
       "acc       384\n",
       "good       69\n",
       "vgood      65\n",
       "Name: output, dtype: int64"
      ]
     },
     "execution_count": 18,
     "metadata": {},
     "output_type": "execute_result"
    }
   ],
   "source": [
    "cars['output'].value_counts()"
   ]
  },
  {
   "cell_type": "code",
   "execution_count": 5,
   "metadata": {},
   "outputs": [],
   "source": [
    "import matplotlib.pyplot as plt\n",
    "plot_size = plt.rcParams[\"figure.figsize\"]\n",
    "plot_size [0] = 8\n",
    "plot_size [1] = 6\n",
    "plt.rcParams[\"figure.figsize\"] = plot_size"
   ]
  },
  {
   "cell_type": "code",
   "execution_count": 6,
   "metadata": {},
   "outputs": [
    {
     "data": {
      "text/plain": [
       "<matplotlib.axes._subplots.AxesSubplot at 0x1e9933861c8>"
      ]
     },
     "execution_count": 6,
     "metadata": {},
     "output_type": "execute_result"
    },
    {
     "data": {
      "image/png": "[encoded data removed]",
      "text/plain": [
       "<Figure size 432x288 with 1 Axes>"
      ]
     },
     "metadata": {},
     "output_type": "display_data"
    }
   ],
   "source": [
    "cars.output.value_counts().plot(kind='pie', autopct='%0.05f%%', colors=['lightblue', 'lightgreen', 'orange', 'pink'], explode=(0.05, 0.05, 0.05,0.05))"
   ]
  },
  {
   "cell_type": "code",
   "execution_count": 7,
   "metadata": {},
   "outputs": [],
   "source": [
    "price = pd.get_dummies(cars.price, prefix='price')\n",
    "maint = pd.get_dummies(cars.maint, prefix='maint')\n",
    "\n",
    "doors = pd.get_dummies(cars.doors, prefix='doors')\n",
    "persons = pd.get_dummies(cars.persons, prefix='persons')\n",
    "\n",
    "lug_capacity = pd.get_dummies(cars.lug_capacity, prefix='lug_capacity')\n",
    "safety = pd.get_dummies(cars.safety, prefix='safety')\n",
    "\n",
    "labels = pd.get_dummies(cars.output, prefix='condition')"
   ]
  },
  {
   "cell_type": "code",
   "execution_count": 8,
   "metadata": {},
   "outputs": [],
   "source": [
    "X = pd.concat([price, maint, doors, persons, lug_capacity, safety] , axis=1)"
   ]
  },
  {
   "cell_type": "code",
   "execution_count": 19,
   "metadata": {},
   "outputs": [
    {
     "data": {
      "text/plain": [
       "(1728, 4)"
      ]
     },
     "execution_count": 19,
     "metadata": {},
     "output_type": "execute_result"
    }
   ],
   "source": [
    "y = labels\n",
    "y.shape"
   ]
  },
  {
   "cell_type": "code",
   "execution_count": 10,
   "metadata": {},
   "outputs": [],
   "source": [
    "from sklearn.model_selection import train_test_split\n",
    "X_train, X_test, y_train, y_test = train_test_split(X, y, test_size=0.20, random_state=42)"
   ]
  },
  {
   "cell_type": "code",
   "execution_count": 11,
   "metadata": {},
   "outputs": [],
   "source": [
    "from tensorflow.keras.layers import Input, Dense, Activation,Dropout\n",
    "from tensorflow.keras.models import Model"
   ]
  },
  {
   "cell_type": "code",
   "execution_count": 16,
   "metadata": {},
   "outputs": [
    {
     "data": {
      "text/plain": [
       "pandas.core.frame.DataFrame"
      ]
     },
     "execution_count": 16,
     "metadata": {},
     "output_type": "execute_result"
    }
   ],
   "source": [
    "type(y)"
   ]
  },
  {
   "cell_type": "code",
   "execution_count": 26,
   "metadata": {},
   "outputs": [],
   "source": [
    "input_layer = Input(shape=(X.shape[1],))\n",
    "dense_layer_1 = Dense(15, activation='relu')(input_layer)\n",
    "dense_layer_2 = Dense(10, activation='relu')(dense_layer_1)\n",
    "output = Dense(y.shape[1], activation='softmax')(dense_layer_2)\n",
    "\n",
    "model = Model(inputs=input_layer, outputs=output)\n",
    "model.compile(loss='categorical_crossentropy', optimizer='adam', metrics=['acc'])"
   ]
  },
  {
   "cell_type": "code",
   "execution_count": 27,
   "metadata": {},
   "outputs": [
    {
     "name": "stdout",
     "output_type": "stream",
     "text": [
      "Model: \"model\"\n",
      "_________________________________________________________________\n",
      "Layer (type)                 Output Shape              Param #   \n",
      "=================================================================\n",
      "input_1 (InputLayer)         [(None, 21)]              0         \n",
      "_________________________________________________________________\n",
      "dense (Dense)                (None, 15)                330       \n",
      "_________________________________________________________________\n",
      "dense_1 (Dense)              (None, 10)                160       \n",
      "_________________________________________________________________\n",
      "dense_2 (Dense)              (None, 4)                 44        \n",
      "=================================================================\n",
      "Total params: 534\n",
      "Trainable params: 534\n",
      "Non-trainable params: 0\n",
      "_________________________________________________________________\n",
      "None\n"
     ]
    }
   ],
   "source": [
    "print(model.summary())"
   ]
  },
  {
   "cell_type": "code",
   "execution_count": 28,
   "metadata": {},
   "outputs": [
    {
     "name": "stdout",
     "output_type": "stream",
     "text": [
      "WARNING:tensorflow:Falling back from v2 loop because of error: Failed to find data adapter that can handle input: <class 'pandas.core.frame.DataFrame'>, <class 'NoneType'>\n",
      "Train on 1105 samples, validate on 277 samples\n",
      "Epoch 1/50\n",
      "1105/1105 [==============================] - 0s 452us/sample - loss: 1.1947 - acc: 0.4661 - val_loss: 0.9448 - val_acc: 0.6498\n",
      "Epoch 2/50\n",
      "1105/1105 [==============================] - 0s 281us/sample - loss: 0.6929 - acc: 0.7213 - val_loss: 0.7047 - val_acc: 0.6715\n",
      "Epoch 3/50\n",
      "1105/1105 [==============================] - 0s 309us/sample - loss: 0.5180 - acc: 0.7783 - val_loss: 0.5838 - val_acc: 0.7365\n",
      "Epoch 4/50\n",
      "1105/1105 [==============================] - 0s 307us/sample - loss: 0.4193 - acc: 0.8443 - val_loss: 0.5091 - val_acc: 0.8087\n",
      "Epoch 5/50\n",
      "1105/1105 [==============================] - 0s 281us/sample - loss: 0.3645 - acc: 0.8760 - val_loss: 0.4759 - val_acc: 0.7870\n",
      "Epoch 6/50\n",
      "1105/1105 [==============================] - 0s 287us/sample - loss: 0.3297 - acc: 0.8833 - val_loss: 0.4298 - val_acc: 0.8484\n",
      "Epoch 7/50\n",
      "1105/1105 [==============================] - 0s 293us/sample - loss: 0.3012 - acc: 0.8950 - val_loss: 0.3982 - val_acc: 0.8556\n",
      "Epoch 8/50\n",
      "1105/1105 [==============================] - 0s 292us/sample - loss: 0.2746 - acc: 0.8950 - val_loss: 0.3628 - val_acc: 0.8556\n",
      "Epoch 9/50\n",
      "1105/1105 [==============================] - 0s 305us/sample - loss: 0.2496 - acc: 0.8986 - val_loss: 0.3314 - val_acc: 0.8556\n",
      "Epoch 10/50\n",
      "1105/1105 [==============================] - 0s 291us/sample - loss: 0.2219 - acc: 0.9176 - val_loss: 0.3035 - val_acc: 0.8628\n",
      "Epoch 11/50\n",
      "1105/1105 [==============================] - 0s 302us/sample - loss: 0.1998 - acc: 0.9231 - val_loss: 0.2794 - val_acc: 0.8736\n",
      "Epoch 12/50\n",
      "1105/1105 [==============================] - 0s 290us/sample - loss: 0.1777 - acc: 0.9357 - val_loss: 0.2522 - val_acc: 0.8989\n",
      "Epoch 13/50\n",
      "1105/1105 [==============================] - 0s 295us/sample - loss: 0.1594 - acc: 0.9376 - val_loss: 0.2296 - val_acc: 0.9061\n",
      "Epoch 14/50\n",
      "1105/1105 [==============================] - 0s 303us/sample - loss: 0.1439 - acc: 0.9484 - val_loss: 0.2147 - val_acc: 0.9097\n",
      "Epoch 15/50\n",
      "1105/1105 [==============================] - 0s 311us/sample - loss: 0.1290 - acc: 0.9593 - val_loss: 0.1910 - val_acc: 0.9242\n",
      "Epoch 16/50\n",
      "1105/1105 [==============================] - 0s 332us/sample - loss: 0.1159 - acc: 0.9701 - val_loss: 0.1723 - val_acc: 0.9350\n",
      "Epoch 17/50\n",
      "1105/1105 [==============================] - 0s 331us/sample - loss: 0.1026 - acc: 0.9756 - val_loss: 0.1618 - val_acc: 0.9458\n",
      "Epoch 18/50\n",
      "1105/1105 [==============================] - 0s 424us/sample - loss: 0.0931 - acc: 0.9774 - val_loss: 0.1604 - val_acc: 0.9386\n",
      "Epoch 19/50\n",
      "1105/1105 [==============================] - 0s 430us/sample - loss: 0.0831 - acc: 0.9828 - val_loss: 0.1589 - val_acc: 0.9422\n",
      "Epoch 20/50\n",
      "1105/1105 [==============================] - 1s 509us/sample - loss: 0.0808 - acc: 0.9819 - val_loss: 0.1381 - val_acc: 0.9458\n",
      "Epoch 21/50\n",
      "1105/1105 [==============================] - 0s 386us/sample - loss: 0.0712 - acc: 0.9837 - val_loss: 0.1303 - val_acc: 0.9495\n",
      "Epoch 22/50\n",
      "1105/1105 [==============================] - 1s 542us/sample - loss: 0.0654 - acc: 0.9891 - val_loss: 0.1206 - val_acc: 0.9567\n",
      "Epoch 23/50\n",
      "1105/1105 [==============================] - 0s 362us/sample - loss: 0.0631 - acc: 0.9828 - val_loss: 0.1128 - val_acc: 0.9639\n",
      "Epoch 24/50\n",
      "1105/1105 [==============================] - 0s 303us/sample - loss: 0.0605 - acc: 0.9819 - val_loss: 0.1188 - val_acc: 0.9567\n",
      "Epoch 25/50\n",
      "1105/1105 [==============================] - 0s 392us/sample - loss: 0.0544 - acc: 0.9855 - val_loss: 0.1155 - val_acc: 0.9639\n",
      "Epoch 26/50\n",
      "1105/1105 [==============================] - 0s 307us/sample - loss: 0.0531 - acc: 0.9864 - val_loss: 0.1058 - val_acc: 0.9639\n",
      "Epoch 27/50\n",
      "1105/1105 [==============================] - 0s 303us/sample - loss: 0.0476 - acc: 0.9864 - val_loss: 0.1034 - val_acc: 0.9675\n",
      "Epoch 28/50\n",
      "1105/1105 [==============================] - 0s 309us/sample - loss: 0.0466 - acc: 0.9891 - val_loss: 0.1018 - val_acc: 0.9711\n",
      "Epoch 29/50\n",
      "1105/1105 [==============================] - 0s 395us/sample - loss: 0.0444 - acc: 0.9900 - val_loss: 0.0975 - val_acc: 0.9711\n",
      "Epoch 30/50\n",
      "1105/1105 [==============================] - 0s 313us/sample - loss: 0.0408 - acc: 0.9891 - val_loss: 0.1024 - val_acc: 0.9675\n",
      "Epoch 31/50\n",
      "1105/1105 [==============================] - 0s 304us/sample - loss: 0.0414 - acc: 0.9873 - val_loss: 0.0981 - val_acc: 0.9639\n",
      "Epoch 32/50\n",
      "1105/1105 [==============================] - 0s 310us/sample - loss: 0.0394 - acc: 0.9891 - val_loss: 0.0959 - val_acc: 0.9711\n",
      "Epoch 33/50\n",
      "1105/1105 [==============================] - 0s 312us/sample - loss: 0.0363 - acc: 0.9928 - val_loss: 0.0948 - val_acc: 0.9675\n",
      "Epoch 34/50\n",
      "1105/1105 [==============================] - 0s 314us/sample - loss: 0.0344 - acc: 0.9928 - val_loss: 0.0944 - val_acc: 0.9711\n",
      "Epoch 35/50\n",
      "1105/1105 [==============================] - 0s 315us/sample - loss: 0.0350 - acc: 0.9900 - val_loss: 0.1074 - val_acc: 0.9639\n",
      "Epoch 36/50\n",
      "1105/1105 [==============================] - 0s 291us/sample - loss: 0.0320 - acc: 0.9910 - val_loss: 0.1017 - val_acc: 0.9639\n",
      "Epoch 37/50\n",
      "1105/1105 [==============================] - 0s 299us/sample - loss: 0.0309 - acc: 0.9910 - val_loss: 0.0989 - val_acc: 0.9675\n",
      "Epoch 38/50\n",
      "1105/1105 [==============================] - 0s 303us/sample - loss: 0.0306 - acc: 0.9910 - val_loss: 0.0885 - val_acc: 0.9711\n",
      "Epoch 39/50\n",
      "1105/1105 [==============================] - 0s 293us/sample - loss: 0.0291 - acc: 0.9937 - val_loss: 0.0992 - val_acc: 0.9675\n",
      "Epoch 40/50\n",
      "1105/1105 [==============================] - 0s 369us/sample - loss: 0.0280 - acc: 0.9937 - val_loss: 0.0951 - val_acc: 0.9711\n",
      "Epoch 41/50\n",
      "1105/1105 [==============================] - 0s 312us/sample - loss: 0.0252 - acc: 0.9973 - val_loss: 0.0926 - val_acc: 0.9675\n",
      "Epoch 42/50\n",
      "1105/1105 [==============================] - 0s 360us/sample - loss: 0.0254 - acc: 0.9964 - val_loss: 0.0980 - val_acc: 0.9675\n",
      "Epoch 43/50\n",
      "1105/1105 [==============================] - 0s 306us/sample - loss: 0.0245 - acc: 0.9946 - val_loss: 0.1053 - val_acc: 0.9639\n",
      "Epoch 44/50\n",
      "1105/1105 [==============================] - 0s 318us/sample - loss: 0.0227 - acc: 0.9973 - val_loss: 0.1020 - val_acc: 0.9603\n",
      "Epoch 45/50\n",
      "1105/1105 [==============================] - 0s 302us/sample - loss: 0.0226 - acc: 0.9955 - val_loss: 0.0919 - val_acc: 0.9639\n",
      "Epoch 46/50\n",
      "1105/1105 [==============================] - 0s 328us/sample - loss: 0.0209 - acc: 0.9982 - val_loss: 0.1041 - val_acc: 0.9639\n",
      "Epoch 47/50\n",
      "1105/1105 [==============================] - 0s 317us/sample - loss: 0.0204 - acc: 0.9982 - val_loss: 0.0992 - val_acc: 0.9675\n",
      "Epoch 48/50\n",
      "1105/1105 [==============================] - 0s 302us/sample - loss: 0.0197 - acc: 0.9964 - val_loss: 0.0991 - val_acc: 0.9747\n",
      "Epoch 49/50\n",
      "1105/1105 [==============================] - 0s 285us/sample - loss: 0.0184 - acc: 0.9982 - val_loss: 0.1026 - val_acc: 0.9639\n",
      "Epoch 50/50\n",
      "1105/1105 [==============================] - 0s 346us/sample - loss: 0.0180 - acc: 0.9964 - val_loss: 0.0999 - val_acc: 0.9675\n"
     ]
    }
   ],
   "source": [
    "history = model.fit(X_train, y_train, batch_size=8, epochs=50, verbose=1, validation_split=0.2)"
   ]
  },
  {
   "cell_type": "code",
   "execution_count": 29,
   "metadata": {},
   "outputs": [
    {
     "name": "stdout",
     "output_type": "stream",
     "text": [
      "WARNING:tensorflow:Falling back from v2 loop because of error: Failed to find data adapter that can handle input: <class 'pandas.core.frame.DataFrame'>, <class 'NoneType'>\n",
      "346/346 [==============================] - 0s 49us/sample - loss: 0.0875 - acc: 0.9624\n",
      "Test Score: 0.08751183128081305\n",
      "Test Accuracy: 0.96242774\n"
     ]
    }
   ],
   "source": [
    "score = model.evaluate(X_test, y_test, verbose=1)\n",
    "\n",
    "print(\"Test Score:\", score[0])\n",
    "print(\"Test Accuracy:\", score[1])"
   ]
  },
  {
   "cell_type": "code",
   "execution_count": null,
   "metadata": {},
   "outputs": [],
   "source": []
  }
 ],
 "metadata": {
  "kernelspec": {
   "display_name": "Python 3",
   "language": "python",
   "name": "python3"
  },
  "language_info": {
   "codemirror_mode": {
    "name": "ipython",
    "version": 3
   },
   "file_extension": ".py",
   "mimetype": "text/x-python",
   "name": "python",
   "nbconvert_exporter": "python",
   "pygments_lexer": "ipython3",
   "version": "3.7.4"
  }
 },
 "nbformat": 4,
 "nbformat_minor": 2
}
