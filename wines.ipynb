{
 "cells": [
  {
   "cell_type": "code",
   "execution_count": 266,
   "metadata": {},
   "outputs": [],
   "source": [
    "import tensorflow as tf\n",
    "import pandas as pd"
   ]
  },
  {
   "cell_type": "code",
   "execution_count": 267,
   "metadata": {},
   "outputs": [
    {
     "data": {
      "text/html": [
       "<div>\n",
       "<style scoped>\n",
       "    .dataframe tbody tr th:only-of-type {\n",
       "        vertical-align: middle;\n",
       "    }\n",
       "\n",
       "    .dataframe tbody tr th {\n",
       "        vertical-align: top;\n",
       "    }\n",
       "\n",
       "    .dataframe thead th {\n",
       "        text-align: right;\n",
       "    }\n",
       "</style>\n",
       "<table border=\"1\" class=\"dataframe\">\n",
       "  <thead>\n",
       "    <tr style=\"text-align: right;\">\n",
       "      <th></th>\n",
       "      <th>Wine</th>\n",
       "      <th>Alcohol</th>\n",
       "      <th>Malic.acid</th>\n",
       "      <th>Ash</th>\n",
       "      <th>Acl</th>\n",
       "      <th>Mg</th>\n",
       "      <th>Phenols</th>\n",
       "      <th>Flavanoids</th>\n",
       "      <th>Nonflavanoid.phenols</th>\n",
       "      <th>Proanth</th>\n",
       "      <th>Color.int</th>\n",
       "      <th>Hue</th>\n",
       "      <th>OD</th>\n",
       "      <th>Proline</th>\n",
       "    </tr>\n",
       "  </thead>\n",
       "  <tbody>\n",
       "    <tr>\n",
       "      <td>0</td>\n",
       "      <td>1</td>\n",
       "      <td>14.23</td>\n",
       "      <td>1.71</td>\n",
       "      <td>2.43</td>\n",
       "      <td>15.6</td>\n",
       "      <td>127</td>\n",
       "      <td>2.80</td>\n",
       "      <td>3.06</td>\n",
       "      <td>0.28</td>\n",
       "      <td>2.29</td>\n",
       "      <td>5.64</td>\n",
       "      <td>1.04</td>\n",
       "      <td>3.92</td>\n",
       "      <td>1065</td>\n",
       "    </tr>\n",
       "    <tr>\n",
       "      <td>1</td>\n",
       "      <td>1</td>\n",
       "      <td>13.20</td>\n",
       "      <td>1.78</td>\n",
       "      <td>2.14</td>\n",
       "      <td>11.2</td>\n",
       "      <td>100</td>\n",
       "      <td>2.65</td>\n",
       "      <td>2.76</td>\n",
       "      <td>0.26</td>\n",
       "      <td>1.28</td>\n",
       "      <td>4.38</td>\n",
       "      <td>1.05</td>\n",
       "      <td>3.40</td>\n",
       "      <td>1050</td>\n",
       "    </tr>\n",
       "    <tr>\n",
       "      <td>2</td>\n",
       "      <td>1</td>\n",
       "      <td>13.16</td>\n",
       "      <td>2.36</td>\n",
       "      <td>2.67</td>\n",
       "      <td>18.6</td>\n",
       "      <td>101</td>\n",
       "      <td>2.80</td>\n",
       "      <td>3.24</td>\n",
       "      <td>0.30</td>\n",
       "      <td>2.81</td>\n",
       "      <td>5.68</td>\n",
       "      <td>1.03</td>\n",
       "      <td>3.17</td>\n",
       "      <td>1185</td>\n",
       "    </tr>\n",
       "    <tr>\n",
       "      <td>3</td>\n",
       "      <td>1</td>\n",
       "      <td>14.37</td>\n",
       "      <td>1.95</td>\n",
       "      <td>2.50</td>\n",
       "      <td>16.8</td>\n",
       "      <td>113</td>\n",
       "      <td>3.85</td>\n",
       "      <td>3.49</td>\n",
       "      <td>0.24</td>\n",
       "      <td>2.18</td>\n",
       "      <td>7.80</td>\n",
       "      <td>0.86</td>\n",
       "      <td>3.45</td>\n",
       "      <td>1480</td>\n",
       "    </tr>\n",
       "    <tr>\n",
       "      <td>4</td>\n",
       "      <td>1</td>\n",
       "      <td>13.24</td>\n",
       "      <td>2.59</td>\n",
       "      <td>2.87</td>\n",
       "      <td>21.0</td>\n",
       "      <td>118</td>\n",
       "      <td>2.80</td>\n",
       "      <td>2.69</td>\n",
       "      <td>0.39</td>\n",
       "      <td>1.82</td>\n",
       "      <td>4.32</td>\n",
       "      <td>1.04</td>\n",
       "      <td>2.93</td>\n",
       "      <td>735</td>\n",
       "    </tr>\n",
       "  </tbody>\n",
       "</table>\n",
       "</div>"
      ],
      "text/plain": [
       "   Wine  Alcohol  Malic.acid   Ash   Acl   Mg  Phenols  Flavanoids  \\\n",
       "0     1    14.23        1.71  2.43  15.6  127     2.80        3.06   \n",
       "1     1    13.20        1.78  2.14  11.2  100     2.65        2.76   \n",
       "2     1    13.16        2.36  2.67  18.6  101     2.80        3.24   \n",
       "3     1    14.37        1.95  2.50  16.8  113     3.85        3.49   \n",
       "4     1    13.24        2.59  2.87  21.0  118     2.80        2.69   \n",
       "\n",
       "   Nonflavanoid.phenols  Proanth  Color.int   Hue    OD  Proline  \n",
       "0                  0.28     2.29       5.64  1.04  3.92     1065  \n",
       "1                  0.26     1.28       4.38  1.05  3.40     1050  \n",
       "2                  0.30     2.81       5.68  1.03  3.17     1185  \n",
       "3                  0.24     2.18       7.80  0.86  3.45     1480  \n",
       "4                  0.39     1.82       4.32  1.04  2.93      735  "
      ]
     },
     "execution_count": 267,
     "metadata": {},
     "output_type": "execute_result"
    }
   ],
   "source": [
    "wines = pd.read_csv('wine.csv')\n",
    "wines.head()"
   ]
  },
  {
   "cell_type": "code",
   "execution_count": 268,
   "metadata": {},
   "outputs": [
    {
     "data": {
      "text/plain": [
       "2    71\n",
       "1    59\n",
       "3    48\n",
       "Name: Wine, dtype: int64"
      ]
     },
     "execution_count": 268,
     "metadata": {},
     "output_type": "execute_result"
    }
   ],
   "source": [
    "wines['Wine'].value_counts()"
   ]
  },
  {
   "cell_type": "code",
   "execution_count": 269,
   "metadata": {},
   "outputs": [
    {
     "name": "stdout",
     "output_type": "stream",
     "text": [
      "<class 'pandas.core.frame.DataFrame'>\n",
      "RangeIndex: 178 entries, 0 to 177\n",
      "Data columns (total 14 columns):\n",
      "Wine                    178 non-null int64\n",
      "Alcohol                 178 non-null float64\n",
      "Malic.acid              178 non-null float64\n",
      "Ash                     178 non-null float64\n",
      "Acl                     178 non-null float64\n",
      "Mg                      178 non-null int64\n",
      "Phenols                 178 non-null float64\n",
      "Flavanoids              178 non-null float64\n",
      "Nonflavanoid.phenols    178 non-null float64\n",
      "Proanth                 178 non-null float64\n",
      "Color.int               178 non-null float64\n",
      "Hue                     178 non-null float64\n",
      "OD                      178 non-null float64\n",
      "Proline                 178 non-null int64\n",
      "dtypes: float64(11), int64(3)\n",
      "memory usage: 19.6 KB\n"
     ]
    }
   ],
   "source": [
    "wines.info()"
   ]
  },
  {
   "cell_type": "code",
   "execution_count": 270,
   "metadata": {},
   "outputs": [
    {
     "data": {
      "text/plain": [
       "(178, 14)"
      ]
     },
     "execution_count": 270,
     "metadata": {},
     "output_type": "execute_result"
    }
   ],
   "source": [
    "wines.shape"
   ]
  },
  {
   "cell_type": "code",
   "execution_count": 271,
   "metadata": {},
   "outputs": [],
   "source": [
    "X = wines.drop(['Wine'], axis=1)\n",
    "labels = pd.get_dummies(wines['Wine'], prefix='Wine')"
   ]
  },
  {
   "cell_type": "code",
   "execution_count": 272,
   "metadata": {},
   "outputs": [
    {
     "data": {
      "text/plain": [
       "(178, 3)"
      ]
     },
     "execution_count": 272,
     "metadata": {},
     "output_type": "execute_result"
    }
   ],
   "source": [
    "y = labels\n",
    "y.shape"
   ]
  },
  {
   "cell_type": "code",
   "execution_count": 273,
   "metadata": {},
   "outputs": [],
   "source": [
    "from sklearn.model_selection import train_test_split\n",
    "X_train, X_test, y_train, y_test = train_test_split(X, y, test_size=0.20, random_state=42)"
   ]
  },
  {
   "cell_type": "code",
   "execution_count": 274,
   "metadata": {},
   "outputs": [],
   "source": [
    "from tensorflow.keras.layers import Input, Dense, Activation,Dropout\n",
    "from tensorflow.keras.models import Model"
   ]
  },
  {
   "cell_type": "code",
   "execution_count": 275,
   "metadata": {},
   "outputs": [],
   "source": [
    "input_layer = Input(shape=(X.shape[1],))\n",
    "dense_layer_1 = Dense(6, activation='relu')(input_layer)\n",
    "dense_layer_2 = Dense(6, activation='relu')(dense_layer_1)\n",
    "output = Dense(y.shape[1], activation='softmax')(dense_layer_2)\n",
    "\n",
    "model = Model(inputs=input_layer, outputs=output)\n",
    "model.compile(loss='categorical_crossentropy', optimizer='adam', metrics=['acc'])"
   ]
  },
  {
   "cell_type": "code",
   "execution_count": 276,
   "metadata": {},
   "outputs": [
    {
     "name": "stdout",
     "output_type": "stream",
     "text": [
      "Model: \"model_22\"\n",
      "_________________________________________________________________\n",
      "Layer (type)                 Output Shape              Param #   \n",
      "=================================================================\n",
      "input_31 (InputLayer)        [(None, 13)]              0         \n",
      "_________________________________________________________________\n",
      "dense_80 (Dense)             (None, 6)                 84        \n",
      "_________________________________________________________________\n",
      "dense_81 (Dense)             (None, 6)                 42        \n",
      "_________________________________________________________________\n",
      "dense_82 (Dense)             (None, 3)                 21        \n",
      "=================================================================\n",
      "Total params: 147\n",
      "Trainable params: 147\n",
      "Non-trainable params: 0\n",
      "_________________________________________________________________\n",
      "None\n"
     ]
    }
   ],
   "source": [
    "print(model.summary())"
   ]
  },
  {
   "cell_type": "code",
   "execution_count": 277,
   "metadata": {},
   "outputs": [
    {
     "name": "stdout",
     "output_type": "stream",
     "text": [
      "WARNING:tensorflow:Falling back from v2 loop because of error: Failed to find data adapter that can handle input: <class 'pandas.core.frame.DataFrame'>, <class 'NoneType'>\n",
      "Train on 113 samples, validate on 29 samples\n",
      "Epoch 1/50\n",
      "113/113 [==============================] - 0s 2ms/sample - loss: 8.5563 - acc: 0.3805 - val_loss: 7.7919 - val_acc: 0.4483\n",
      "Epoch 2/50\n",
      "113/113 [==============================] - 0s 354us/sample - loss: 7.7789 - acc: 0.4248 - val_loss: 7.6896 - val_acc: 0.4138\n",
      "Epoch 3/50\n",
      "113/113 [==============================] - 0s 425us/sample - loss: 6.8929 - acc: 0.4956 - val_loss: 7.3072 - val_acc: 0.4828\n",
      "Epoch 4/50\n",
      "113/113 [==============================] - 0s 478us/sample - loss: 6.8643 - acc: 0.5221 - val_loss: 7.3295 - val_acc: 0.4483\n",
      "Epoch 5/50\n",
      "113/113 [==============================] - 0s 487us/sample - loss: 7.8322 - acc: 0.4248 - val_loss: 7.2675 - val_acc: 0.5172\n",
      "Epoch 6/50\n",
      "113/113 [==============================] - 0s 646us/sample - loss: 7.2466 - acc: 0.5133 - val_loss: 7.4149 - val_acc: 0.5172\n",
      "Epoch 7/50\n",
      "113/113 [==============================] - 0s 558us/sample - loss: 7.4249 - acc: 0.4690 - val_loss: 7.4782 - val_acc: 0.4138\n",
      "Epoch 8/50\n",
      "113/113 [==============================] - 0s 442us/sample - loss: 6.8667 - acc: 0.5133 - val_loss: 7.2947 - val_acc: 0.4828\n",
      "Epoch 9/50\n",
      "113/113 [==============================] - 0s 522us/sample - loss: 6.8664 - acc: 0.5221 - val_loss: 7.2189 - val_acc: 0.5172\n",
      "Epoch 10/50\n",
      "113/113 [==============================] - 0s 699us/sample - loss: 6.7925 - acc: 0.5044 - val_loss: 7.2125 - val_acc: 0.5172\n",
      "Epoch 11/50\n",
      "113/113 [==============================] - 0s 673us/sample - loss: 6.8185 - acc: 0.4956 - val_loss: 7.2055 - val_acc: 0.5172\n",
      "Epoch 12/50\n",
      "113/113 [==============================] - 0s 478us/sample - loss: 6.7953 - acc: 0.5398 - val_loss: 7.2071 - val_acc: 0.5172\n",
      "Epoch 13/50\n",
      "113/113 [==============================] - 0s 487us/sample - loss: 6.8259 - acc: 0.4956 - val_loss: 7.1959 - val_acc: 0.5172\n",
      "Epoch 14/50\n",
      "113/113 [==============================] - 0s 673us/sample - loss: 6.7683 - acc: 0.5044 - val_loss: 7.2144 - val_acc: 0.5172\n",
      "Epoch 15/50\n",
      "113/113 [==============================] - 0s 557us/sample - loss: 6.9190 - acc: 0.5044 - val_loss: 7.2061 - val_acc: 0.5172\n",
      "Epoch 16/50\n",
      "113/113 [==============================] - 0s 504us/sample - loss: 6.8915 - acc: 0.4956 - val_loss: 7.1745 - val_acc: 0.5172\n",
      "Epoch 17/50\n",
      "113/113 [==============================] - 0s 496us/sample - loss: 7.0833 - acc: 0.4867 - val_loss: 7.1778 - val_acc: 0.4828\n",
      "Epoch 18/50\n",
      "113/113 [==============================] - 0s 451us/sample - loss: 7.0100 - acc: 0.5044 - val_loss: 7.1554 - val_acc: 0.5172\n",
      "Epoch 19/50\n",
      "113/113 [==============================] - 0s 513us/sample - loss: 6.7611 - acc: 0.4867 - val_loss: 7.1687 - val_acc: 0.5172\n",
      "Epoch 20/50\n",
      "113/113 [==============================] - 0s 531us/sample - loss: 6.7501 - acc: 0.5310 - val_loss: 7.1498 - val_acc: 0.5172\n",
      "Epoch 21/50\n",
      "113/113 [==============================] - 0s 345us/sample - loss: 6.7902 - acc: 0.5221 - val_loss: 7.1516 - val_acc: 0.5172\n",
      "Epoch 22/50\n",
      "113/113 [==============================] - 0s 354us/sample - loss: 6.8280 - acc: 0.5044 - val_loss: 7.1324 - val_acc: 0.5172\n",
      "Epoch 23/50\n",
      "113/113 [==============================] - 0s 327us/sample - loss: 6.7225 - acc: 0.5133 - val_loss: 7.1372 - val_acc: 0.5172\n",
      "Epoch 24/50\n",
      "113/113 [==============================] - 0s 487us/sample - loss: 6.7198 - acc: 0.5044 - val_loss: 7.1302 - val_acc: 0.5172\n",
      "Epoch 25/50\n",
      "113/113 [==============================] - 0s 381us/sample - loss: 6.7666 - acc: 0.4867 - val_loss: 7.1131 - val_acc: 0.5172\n",
      "Epoch 26/50\n",
      "113/113 [==============================] - 0s 389us/sample - loss: 6.7759 - acc: 0.5398 - val_loss: 7.1165 - val_acc: 0.5172\n",
      "Epoch 27/50\n",
      "113/113 [==============================] - 0s 381us/sample - loss: 6.7614 - acc: 0.4956 - val_loss: 7.1009 - val_acc: 0.5172\n",
      "Epoch 28/50\n",
      "113/113 [==============================] - 0s 496us/sample - loss: 6.7276 - acc: 0.5398 - val_loss: 7.0967 - val_acc: 0.5172\n",
      "Epoch 29/50\n",
      "113/113 [==============================] - 0s 372us/sample - loss: 6.8083 - acc: 0.5575 - val_loss: 7.0890 - val_acc: 0.5172\n",
      "Epoch 30/50\n",
      "113/113 [==============================] - 0s 381us/sample - loss: 6.6945 - acc: 0.4956 - val_loss: 7.0979 - val_acc: 0.5172\n",
      "Epoch 31/50\n",
      "113/113 [==============================] - 0s 681us/sample - loss: 6.7148 - acc: 0.5044 - val_loss: 7.0978 - val_acc: 0.5172\n",
      "Epoch 32/50\n",
      "113/113 [==============================] - 0s 381us/sample - loss: 6.6975 - acc: 0.5221 - val_loss: 7.0749 - val_acc: 0.5172\n",
      "Epoch 33/50\n",
      "113/113 [==============================] - 0s 407us/sample - loss: 6.6889 - acc: 0.5221 - val_loss: 7.0685 - val_acc: 0.5172\n",
      "Epoch 34/50\n",
      "113/113 [==============================] - 0s 522us/sample - loss: 6.7075 - acc: 0.5133 - val_loss: 7.0566 - val_acc: 0.5172\n",
      "Epoch 35/50\n",
      "113/113 [==============================] - 0s 469us/sample - loss: 6.7185 - acc: 0.5221 - val_loss: 7.0502 - val_acc: 0.5172\n",
      "Epoch 36/50\n",
      "113/113 [==============================] - 0s 522us/sample - loss: 7.2081 - acc: 0.4602 - val_loss: 7.3031 - val_acc: 0.4483\n",
      "Epoch 37/50\n",
      "113/113 [==============================] - 0s 345us/sample - loss: 6.8929 - acc: 0.5044 - val_loss: 7.0410 - val_acc: 0.5172\n",
      "Epoch 38/50\n",
      "113/113 [==============================] - 0s 381us/sample - loss: 6.6858 - acc: 0.5310 - val_loss: 7.0974 - val_acc: 0.4828\n",
      "Epoch 39/50\n",
      "113/113 [==============================] - 0s 327us/sample - loss: 6.9465 - acc: 0.4779 - val_loss: 7.0355 - val_acc: 0.4828\n",
      "Epoch 40/50\n",
      "113/113 [==============================] - 0s 504us/sample - loss: 6.7168 - acc: 0.5221 - val_loss: 7.0734 - val_acc: 0.5172\n",
      "Epoch 41/50\n",
      "113/113 [==============================] - 0s 527us/sample - loss: 6.7377 - acc: 0.5044 - val_loss: 7.0226 - val_acc: 0.4828\n",
      "Epoch 42/50\n",
      "113/113 [==============================] - 0s 403us/sample - loss: 6.7029 - acc: 0.5575 - val_loss: 7.0183 - val_acc: 0.5172\n",
      "Epoch 43/50\n",
      "113/113 [==============================] - 0s 372us/sample - loss: 6.6716 - acc: 0.4956 - val_loss: 7.0045 - val_acc: 0.5172\n",
      "Epoch 44/50\n",
      "113/113 [==============================] - 0s 319us/sample - loss: 6.6610 - acc: 0.5487 - val_loss: 6.9984 - val_acc: 0.5172\n",
      "Epoch 45/50\n",
      "113/113 [==============================] - 0s 381us/sample - loss: 6.6296 - acc: 0.5044 - val_loss: 7.0097 - val_acc: 0.5172\n",
      "Epoch 46/50\n",
      "113/113 [==============================] - 0s 389us/sample - loss: 6.6366 - acc: 0.5133 - val_loss: 6.9863 - val_acc: 0.5172\n",
      "Epoch 47/50\n",
      "113/113 [==============================] - 0s 442us/sample - loss: 6.7217 - acc: 0.5044 - val_loss: 6.9879 - val_acc: 0.5172\n",
      "Epoch 48/50\n",
      "113/113 [==============================] - 0s 504us/sample - loss: 6.7180 - acc: 0.5398 - val_loss: 7.0211 - val_acc: 0.5172\n",
      "Epoch 49/50\n",
      "113/113 [==============================] - 0s 372us/sample - loss: 6.6543 - acc: 0.5044 - val_loss: 6.9989 - val_acc: 0.5172\n",
      "Epoch 50/50\n",
      "113/113 [==============================] - 0s 425us/sample - loss: 6.6463 - acc: 0.5133 - val_loss: 6.9917 - val_acc: 0.4828\n"
     ]
    }
   ],
   "source": [
    "history = model.fit(X_train, y_train, batch_size=8, epochs=50, verbose=1, validation_split=0.2)"
   ]
  },
  {
   "cell_type": "code",
   "execution_count": 278,
   "metadata": {},
   "outputs": [
    {
     "name": "stdout",
     "output_type": "stream",
     "text": [
      "WARNING:tensorflow:Falling back from v2 loop because of error: Failed to find data adapter that can handle input: <class 'pandas.core.frame.DataFrame'>, <class 'NoneType'>\n",
      "36/36 [==============================] - 0s 167us/sample - loss: 6.4065 - acc: 0.5278\n",
      "Test Score: 6.406510611375173\n",
      "Test Accuracy: 0.5277778\n"
     ]
    }
   ],
   "source": [
    "score = model.evaluate(X_test, y_test, verbose=1)\n",
    "\n",
    "print(\"Test Score:\", score[0])\n",
    "print(\"Test Accuracy:\", score[1])"
   ]
  }
 ],
 "metadata": {
  "kernelspec": {
   "display_name": "Python 3",
   "language": "python",
   "name": "python3"
  },
  "language_info": {
   "codemirror_mode": {
    "name": "ipython",
    "version": 3
   },
   "file_extension": ".py",
   "mimetype": "text/x-python",
   "name": "python",
   "nbconvert_exporter": "python",
   "pygments_lexer": "ipython3",
   "version": "3.7.4"
  }
 },
 "nbformat": 4,
 "nbformat_minor": 2
}
