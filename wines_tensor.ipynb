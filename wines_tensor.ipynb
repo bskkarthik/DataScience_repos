{
  "nbformat": 4,
  "nbformat_minor": 0,
  "metadata": {
    "colab": {
      "name": "wines_tensor.ipynb",
      "provenance": [],
      "authorship_tag": "ABX9TyPSKIaJ/HruYGQ6eBmE3quD",
      "include_colab_link": true
    },
    "kernelspec": {
      "name": "python3",
      "display_name": "Python 3"
    },
    "accelerator": "GPU"
  },
  "cells": [
    {
      "cell_type": "markdown",
      "metadata": {
        "id": "view-in-github",
        "colab_type": "text"
      },
      "source": [
        "<a href=\"https://colab.research.google.com/github/bskkarthik/DataScience_repos/blob/master/wines_tensor.ipynb\" target=\"_parent\"><img src=\"https://colab.research.google.com/assets/colab-badge.svg\" alt=\"Open In Colab\"/></a>"
      ]
    },
    {
      "cell_type": "code",
      "metadata": {
        "id": "0QnX8V4STUUr",
        "colab_type": "code",
        "colab": {}
      },
      "source": [
        "from google.colab import drive\n",
        "drive.mount('/content/drive/')"
      ],
      "execution_count": 0,
      "outputs": []
    },
    {
      "cell_type": "code",
      "metadata": {
        "id": "6PNJpnrwU6Lp",
        "colab_type": "code",
        "outputId": "85d1aa07-6fa2-4a31-be4a-87a5117c844e",
        "colab": {
          "base_uri": "https://localhost:8080/",
          "height": 34
        }
      },
      "source": [
        "!ls '/content/drive/My Drive/DeepLearning_Demos'"
      ],
      "execution_count": 2,
      "outputs": [
        {
          "output_type": "stream",
          "text": [
            "MNIST_tensorflow.ipynb\twine.csv  wines.ipynb\n"
          ],
          "name": "stdout"
        }
      ]
    },
    {
      "cell_type": "code",
      "metadata": {
        "id": "iPrsQ1XcT-oP",
        "colab_type": "code",
        "outputId": "8a1d7d52-ee91-497b-8cc7-afb793bbb861",
        "colab": {
          "base_uri": "https://localhost:8080/",
          "height": 204
        }
      },
      "source": [
        "import pandas as pd\n",
        "df = pd.read_csv('/content/drive/My Drive/DeepLearning_Demos/wine.csv')\n",
        "df.head()"
      ],
      "execution_count": 32,
      "outputs": [
        {
          "output_type": "execute_result",
          "data": {
            "text/html": [
              "<div>\n",
              "<style scoped>\n",
              "    .dataframe tbody tr th:only-of-type {\n",
              "        vertical-align: middle;\n",
              "    }\n",
              "\n",
              "    .dataframe tbody tr th {\n",
              "        vertical-align: top;\n",
              "    }\n",
              "\n",
              "    .dataframe thead th {\n",
              "        text-align: right;\n",
              "    }\n",
              "</style>\n",
              "<table border=\"1\" class=\"dataframe\">\n",
              "  <thead>\n",
              "    <tr style=\"text-align: right;\">\n",
              "      <th></th>\n",
              "      <th>Wine</th>\n",
              "      <th>Alcohol</th>\n",
              "      <th>Malic.acid</th>\n",
              "      <th>Ash</th>\n",
              "      <th>Acl</th>\n",
              "      <th>Mg</th>\n",
              "      <th>Phenols</th>\n",
              "      <th>Flavanoids</th>\n",
              "      <th>Nonflavanoid.phenols</th>\n",
              "      <th>Proanth</th>\n",
              "      <th>Color.int</th>\n",
              "      <th>Hue</th>\n",
              "      <th>OD</th>\n",
              "      <th>Proline</th>\n",
              "    </tr>\n",
              "  </thead>\n",
              "  <tbody>\n",
              "    <tr>\n",
              "      <th>0</th>\n",
              "      <td>1</td>\n",
              "      <td>14.23</td>\n",
              "      <td>1.71</td>\n",
              "      <td>2.43</td>\n",
              "      <td>15.6</td>\n",
              "      <td>127</td>\n",
              "      <td>2.80</td>\n",
              "      <td>3.06</td>\n",
              "      <td>0.28</td>\n",
              "      <td>2.29</td>\n",
              "      <td>5.64</td>\n",
              "      <td>1.04</td>\n",
              "      <td>3.92</td>\n",
              "      <td>1065</td>\n",
              "    </tr>\n",
              "    <tr>\n",
              "      <th>1</th>\n",
              "      <td>1</td>\n",
              "      <td>13.20</td>\n",
              "      <td>1.78</td>\n",
              "      <td>2.14</td>\n",
              "      <td>11.2</td>\n",
              "      <td>100</td>\n",
              "      <td>2.65</td>\n",
              "      <td>2.76</td>\n",
              "      <td>0.26</td>\n",
              "      <td>1.28</td>\n",
              "      <td>4.38</td>\n",
              "      <td>1.05</td>\n",
              "      <td>3.40</td>\n",
              "      <td>1050</td>\n",
              "    </tr>\n",
              "    <tr>\n",
              "      <th>2</th>\n",
              "      <td>1</td>\n",
              "      <td>13.16</td>\n",
              "      <td>2.36</td>\n",
              "      <td>2.67</td>\n",
              "      <td>18.6</td>\n",
              "      <td>101</td>\n",
              "      <td>2.80</td>\n",
              "      <td>3.24</td>\n",
              "      <td>0.30</td>\n",
              "      <td>2.81</td>\n",
              "      <td>5.68</td>\n",
              "      <td>1.03</td>\n",
              "      <td>3.17</td>\n",
              "      <td>1185</td>\n",
              "    </tr>\n",
              "    <tr>\n",
              "      <th>3</th>\n",
              "      <td>1</td>\n",
              "      <td>14.37</td>\n",
              "      <td>1.95</td>\n",
              "      <td>2.50</td>\n",
              "      <td>16.8</td>\n",
              "      <td>113</td>\n",
              "      <td>3.85</td>\n",
              "      <td>3.49</td>\n",
              "      <td>0.24</td>\n",
              "      <td>2.18</td>\n",
              "      <td>7.80</td>\n",
              "      <td>0.86</td>\n",
              "      <td>3.45</td>\n",
              "      <td>1480</td>\n",
              "    </tr>\n",
              "    <tr>\n",
              "      <th>4</th>\n",
              "      <td>1</td>\n",
              "      <td>13.24</td>\n",
              "      <td>2.59</td>\n",
              "      <td>2.87</td>\n",
              "      <td>21.0</td>\n",
              "      <td>118</td>\n",
              "      <td>2.80</td>\n",
              "      <td>2.69</td>\n",
              "      <td>0.39</td>\n",
              "      <td>1.82</td>\n",
              "      <td>4.32</td>\n",
              "      <td>1.04</td>\n",
              "      <td>2.93</td>\n",
              "      <td>735</td>\n",
              "    </tr>\n",
              "  </tbody>\n",
              "</table>\n",
              "</div>"
            ],
            "text/plain": [
              "   Wine  Alcohol  Malic.acid   Ash  ...  Color.int   Hue    OD  Proline\n",
              "0     1    14.23        1.71  2.43  ...       5.64  1.04  3.92     1065\n",
              "1     1    13.20        1.78  2.14  ...       4.38  1.05  3.40     1050\n",
              "2     1    13.16        2.36  2.67  ...       5.68  1.03  3.17     1185\n",
              "3     1    14.37        1.95  2.50  ...       7.80  0.86  3.45     1480\n",
              "4     1    13.24        2.59  2.87  ...       4.32  1.04  2.93      735\n",
              "\n",
              "[5 rows x 14 columns]"
            ]
          },
          "metadata": {
            "tags": []
          },
          "execution_count": 32
        }
      ]
    },
    {
      "cell_type": "code",
      "metadata": {
        "id": "VcoOO_7Md7YV",
        "colab_type": "code",
        "outputId": "0ecff023-a4e8-4478-c891-47c19403c6c0",
        "colab": {
          "base_uri": "https://localhost:8080/",
          "height": 34
        }
      },
      "source": [
        "df.shape"
      ],
      "execution_count": 33,
      "outputs": [
        {
          "output_type": "execute_result",
          "data": {
            "text/plain": [
              "(178, 14)"
            ]
          },
          "metadata": {
            "tags": []
          },
          "execution_count": 33
        }
      ]
    },
    {
      "cell_type": "code",
      "metadata": {
        "id": "Uz49Ebb2Wd7o",
        "colab_type": "code",
        "outputId": "eca7398b-f5ba-4daf-c757-1a4f3d446294",
        "colab": {
          "base_uri": "https://localhost:8080/",
          "height": 85
        }
      },
      "source": [
        "df['Wine'].value_counts()"
      ],
      "execution_count": 34,
      "outputs": [
        {
          "output_type": "execute_result",
          "data": {
            "text/plain": [
              "2    71\n",
              "1    59\n",
              "3    48\n",
              "Name: Wine, dtype: int64"
            ]
          },
          "metadata": {
            "tags": []
          },
          "execution_count": 34
        }
      ]
    },
    {
      "cell_type": "code",
      "metadata": {
        "id": "VyjXAbVVvO0W",
        "colab_type": "code",
        "colab": {}
      },
      "source": [
        "x = df.drop(['Wine'],axis=1)\n",
        "y = df['Wine']"
      ],
      "execution_count": 0,
      "outputs": []
    },
    {
      "cell_type": "code",
      "metadata": {
        "colab_type": "code",
        "id": "X9uIpOS2zx7k",
        "colab": {}
      },
      "source": [
        "from __future__ import absolute_import, division, print_function, unicode_literals"
      ],
      "execution_count": 0,
      "outputs": []
    },
    {
      "cell_type": "code",
      "metadata": {
        "id": "tizN83Vbxfs3",
        "colab_type": "code",
        "colab": {}
      },
      "source": [
        "#!pip install tensorflow-gpu==2.0.0"
      ],
      "execution_count": 0,
      "outputs": []
    },
    {
      "cell_type": "code",
      "metadata": {
        "id": "w2mLC0U3w6gE",
        "colab_type": "code",
        "colab": {}
      },
      "source": [
        "try:\n",
        "  # Use the %tensorflow_version magic if in colab.\n",
        "  %tensorflow_version 2.x\n",
        "except Exception:\n",
        "  pass\n",
        "\n",
        "import tensorflow as tf"
      ],
      "execution_count": 0,
      "outputs": []
    },
    {
      "cell_type": "code",
      "metadata": {
        "id": "IrYpn1VmX0h5",
        "colab_type": "code",
        "outputId": "b0dc3cf7-4cab-441f-e46f-6fbfcafe5e21",
        "colab": {
          "base_uri": "https://localhost:8080/",
          "height": 34
        }
      },
      "source": [
        "print(tf.__version__)"
      ],
      "execution_count": 76,
      "outputs": [
        {
          "output_type": "stream",
          "text": [
            "2.1.0\n"
          ],
          "name": "stdout"
        }
      ]
    },
    {
      "cell_type": "code",
      "metadata": {
        "id": "QD_NzenYk3j8",
        "colab_type": "code",
        "outputId": "940f07bc-2595-4ee8-dbbf-bcd038c074b1",
        "colab": {
          "base_uri": "https://localhost:8080/",
          "height": 51
        }
      },
      "source": [
        "from sklearn.model_selection import train_test_split\n",
        "x_train, x_test, y_train, y_test = train_test_split(x, y, test_size=0.20, random_state=42)\n",
        "print(x_train.shape)\n",
        "print(y_train.shape)"
      ],
      "execution_count": 77,
      "outputs": [
        {
          "output_type": "stream",
          "text": [
            "(142, 13)\n",
            "(142,)\n"
          ],
          "name": "stdout"
        }
      ]
    },
    {
      "cell_type": "code",
      "metadata": {
        "id": "oKQpeqpLC4h8",
        "colab_type": "code",
        "colab": {
          "base_uri": "https://localhost:8080/",
          "height": 51
        },
        "outputId": "87e888a5-8d17-49a7-b808-91e6d6e43794"
      },
      "source": [
        "from keras.utils import to_categorical\n",
        "y_train_cat, y_test_cat = to_categorical(y_train), to_categorical(y_test)\n",
        "print(y_train_cat.shape)\n",
        "print(y_test_cat.shape)"
      ],
      "execution_count": 78,
      "outputs": [
        {
          "output_type": "stream",
          "text": [
            "(142, 4)\n",
            "(36, 4)\n"
          ],
          "name": "stdout"
        }
      ]
    },
    {
      "cell_type": "code",
      "metadata": {
        "id": "fmCUFscKYrNO",
        "colab_type": "code",
        "colab": {}
      },
      "source": [
        "model = tf.keras.models.Sequential()\n",
        "# Add the Flatten Layer\n",
        "model.add(tf.keras.layers.Dense(13, input_dim=13, activation=tf.nn.relu))\n",
        "# Build the input and the hidden layers\n",
        "model.add(tf.keras.layers.Dense(7, activation=tf.nn.relu))\n",
        "model.add(tf.keras.layers.Dense(4, activation=tf.nn.softmax))"
      ],
      "execution_count": 0,
      "outputs": []
    },
    {
      "cell_type": "code",
      "metadata": {
        "id": "l1nnPCXtZGEy",
        "colab_type": "code",
        "colab": {}
      },
      "source": [
        "model.compile(optimizer=\"adam\", loss=\"categorical_crossentropy\", metrics=[\"accuracy\"])"
      ],
      "execution_count": 0,
      "outputs": []
    },
    {
      "cell_type": "code",
      "metadata": {
        "id": "5n7UzUGdZJUa",
        "colab_type": "code",
        "outputId": "7be0181e-a6a1-4c03-843a-01dbde5f3454",
        "colab": {
          "base_uri": "https://localhost:8080/",
          "height": 1000
        }
      },
      "source": [
        "model.fit(x=x_train, y=y_train_cat, epochs=150, batch_size=10) # Start training proces"
      ],
      "execution_count": 81,
      "outputs": [
        {
          "output_type": "stream",
          "text": [
            "Train on 142 samples\n",
            "Epoch 1/150\n",
            "142/142 [==============================] - 0s 2ms/sample - loss: 85.8470 - accuracy: 0.3169\n",
            "Epoch 2/150\n",
            "142/142 [==============================] - 0s 277us/sample - loss: 50.9802 - accuracy: 0.3169\n",
            "Epoch 3/150\n",
            "142/142 [==============================] - 0s 304us/sample - loss: 24.5515 - accuracy: 0.3169\n",
            "Epoch 4/150\n",
            "142/142 [==============================] - 0s 285us/sample - loss: 13.8207 - accuracy: 0.3028\n",
            "Epoch 5/150\n",
            "142/142 [==============================] - 0s 278us/sample - loss: 8.4442 - accuracy: 0.2113\n",
            "Epoch 6/150\n",
            "142/142 [==============================] - 0s 275us/sample - loss: 3.8136 - accuracy: 0.2958\n",
            "Epoch 7/150\n",
            "142/142 [==============================] - 0s 280us/sample - loss: 1.8092 - accuracy: 0.3803\n",
            "Epoch 8/150\n",
            "142/142 [==============================] - 0s 286us/sample - loss: 1.7490 - accuracy: 0.2817\n",
            "Epoch 9/150\n",
            "142/142 [==============================] - 0s 263us/sample - loss: 1.6670 - accuracy: 0.2535\n",
            "Epoch 10/150\n",
            "142/142 [==============================] - 0s 262us/sample - loss: 1.6281 - accuracy: 0.2746\n",
            "Epoch 11/150\n",
            "142/142 [==============================] - 0s 264us/sample - loss: 1.6142 - accuracy: 0.3521\n",
            "Epoch 12/150\n",
            "142/142 [==============================] - 0s 363us/sample - loss: 1.5426 - accuracy: 0.4085\n",
            "Epoch 13/150\n",
            "142/142 [==============================] - 0s 298us/sample - loss: 1.3673 - accuracy: 0.2887\n",
            "Epoch 14/150\n",
            "142/142 [==============================] - 0s 275us/sample - loss: 1.3546 - accuracy: 0.3099\n",
            "Epoch 15/150\n",
            "142/142 [==============================] - 0s 352us/sample - loss: 1.2791 - accuracy: 0.3662\n",
            "Epoch 16/150\n",
            "142/142 [==============================] - 0s 277us/sample - loss: 1.2422 - accuracy: 0.3451\n",
            "Epoch 17/150\n",
            "142/142 [==============================] - 0s 337us/sample - loss: 1.2311 - accuracy: 0.3451\n",
            "Epoch 18/150\n",
            "142/142 [==============================] - 0s 260us/sample - loss: 1.1643 - accuracy: 0.4296\n",
            "Epoch 19/150\n",
            "142/142 [==============================] - 0s 304us/sample - loss: 1.1341 - accuracy: 0.3521\n",
            "Epoch 20/150\n",
            "142/142 [==============================] - 0s 255us/sample - loss: 1.2132 - accuracy: 0.4085\n",
            "Epoch 21/150\n",
            "142/142 [==============================] - 0s 319us/sample - loss: 1.0870 - accuracy: 0.4225\n",
            "Epoch 22/150\n",
            "142/142 [==============================] - 0s 314us/sample - loss: 1.0615 - accuracy: 0.4648\n",
            "Epoch 23/150\n",
            "142/142 [==============================] - 0s 269us/sample - loss: 1.1552 - accuracy: 0.4014\n",
            "Epoch 24/150\n",
            "142/142 [==============================] - 0s 269us/sample - loss: 1.1059 - accuracy: 0.4014\n",
            "Epoch 25/150\n",
            "142/142 [==============================] - 0s 263us/sample - loss: 1.0461 - accuracy: 0.4507\n",
            "Epoch 26/150\n",
            "142/142 [==============================] - 0s 281us/sample - loss: 1.0618 - accuracy: 0.4507\n",
            "Epoch 27/150\n",
            "142/142 [==============================] - 0s 273us/sample - loss: 0.9843 - accuracy: 0.4577\n",
            "Epoch 28/150\n",
            "142/142 [==============================] - 0s 286us/sample - loss: 1.1506 - accuracy: 0.3662\n",
            "Epoch 29/150\n",
            "142/142 [==============================] - 0s 274us/sample - loss: 0.9638 - accuracy: 0.5634\n",
            "Epoch 30/150\n",
            "142/142 [==============================] - 0s 282us/sample - loss: 1.0369 - accuracy: 0.4366\n",
            "Epoch 31/150\n",
            "142/142 [==============================] - 0s 351us/sample - loss: 0.9696 - accuracy: 0.5141\n",
            "Epoch 32/150\n",
            "142/142 [==============================] - 0s 362us/sample - loss: 0.9274 - accuracy: 0.6338\n",
            "Epoch 33/150\n",
            "142/142 [==============================] - 0s 318us/sample - loss: 0.9383 - accuracy: 0.5986\n",
            "Epoch 34/150\n",
            "142/142 [==============================] - 0s 293us/sample - loss: 0.9764 - accuracy: 0.4225\n",
            "Epoch 35/150\n",
            "142/142 [==============================] - 0s 302us/sample - loss: 0.9152 - accuracy: 0.5775\n",
            "Epoch 36/150\n",
            "142/142 [==============================] - 0s 331us/sample - loss: 1.0426 - accuracy: 0.4718\n",
            "Epoch 37/150\n",
            "142/142 [==============================] - 0s 292us/sample - loss: 0.9576 - accuracy: 0.5070\n",
            "Epoch 38/150\n",
            "142/142 [==============================] - 0s 309us/sample - loss: 0.9395 - accuracy: 0.5423\n",
            "Epoch 39/150\n",
            "142/142 [==============================] - 0s 259us/sample - loss: 0.8724 - accuracy: 0.5986\n",
            "Epoch 40/150\n",
            "142/142 [==============================] - 0s 276us/sample - loss: 0.9048 - accuracy: 0.6056\n",
            "Epoch 41/150\n",
            "142/142 [==============================] - 0s 328us/sample - loss: 0.8695 - accuracy: 0.6197\n",
            "Epoch 42/150\n",
            "142/142 [==============================] - 0s 276us/sample - loss: 0.8728 - accuracy: 0.5986\n",
            "Epoch 43/150\n",
            "142/142 [==============================] - 0s 303us/sample - loss: 0.9033 - accuracy: 0.5352\n",
            "Epoch 44/150\n",
            "142/142 [==============================] - 0s 286us/sample - loss: 0.8526 - accuracy: 0.6338\n",
            "Epoch 45/150\n",
            "142/142 [==============================] - 0s 287us/sample - loss: 0.8233 - accuracy: 0.6620\n",
            "Epoch 46/150\n",
            "142/142 [==============================] - 0s 272us/sample - loss: 0.8392 - accuracy: 0.6479\n",
            "Epoch 47/150\n",
            "142/142 [==============================] - 0s 273us/sample - loss: 0.8426 - accuracy: 0.6408\n",
            "Epoch 48/150\n",
            "142/142 [==============================] - 0s 293us/sample - loss: 0.8763 - accuracy: 0.6268\n",
            "Epoch 49/150\n",
            "142/142 [==============================] - 0s 289us/sample - loss: 0.8219 - accuracy: 0.6761\n",
            "Epoch 50/150\n",
            "142/142 [==============================] - 0s 277us/sample - loss: 0.8353 - accuracy: 0.5845\n",
            "Epoch 51/150\n",
            "142/142 [==============================] - 0s 271us/sample - loss: 0.9839 - accuracy: 0.5845\n",
            "Epoch 52/150\n",
            "142/142 [==============================] - 0s 272us/sample - loss: 0.8996 - accuracy: 0.5634\n",
            "Epoch 53/150\n",
            "142/142 [==============================] - 0s 271us/sample - loss: 0.8746 - accuracy: 0.5915\n",
            "Epoch 54/150\n",
            "142/142 [==============================] - 0s 285us/sample - loss: 0.8155 - accuracy: 0.6338\n",
            "Epoch 55/150\n",
            "142/142 [==============================] - 0s 281us/sample - loss: 0.8159 - accuracy: 0.6620\n",
            "Epoch 56/150\n",
            "142/142 [==============================] - 0s 267us/sample - loss: 0.7760 - accuracy: 0.7113\n",
            "Epoch 57/150\n",
            "142/142 [==============================] - 0s 271us/sample - loss: 0.7914 - accuracy: 0.6761\n",
            "Epoch 58/150\n",
            "142/142 [==============================] - 0s 285us/sample - loss: 0.8294 - accuracy: 0.6972\n",
            "Epoch 59/150\n",
            "142/142 [==============================] - 0s 290us/sample - loss: 0.7760 - accuracy: 0.7254\n",
            "Epoch 60/150\n",
            "142/142 [==============================] - 0s 296us/sample - loss: 0.7938 - accuracy: 0.6620\n",
            "Epoch 61/150\n",
            "142/142 [==============================] - 0s 267us/sample - loss: 0.7552 - accuracy: 0.6972\n",
            "Epoch 62/150\n",
            "142/142 [==============================] - 0s 280us/sample - loss: 0.8124 - accuracy: 0.6761\n",
            "Epoch 63/150\n",
            "142/142 [==============================] - 0s 280us/sample - loss: 0.7874 - accuracy: 0.6620\n",
            "Epoch 64/150\n",
            "142/142 [==============================] - 0s 267us/sample - loss: 0.8661 - accuracy: 0.5704\n",
            "Epoch 65/150\n",
            "142/142 [==============================] - 0s 351us/sample - loss: 0.8927 - accuracy: 0.5845\n",
            "Epoch 66/150\n",
            "142/142 [==============================] - 0s 282us/sample - loss: 0.8619 - accuracy: 0.6056\n",
            "Epoch 67/150\n",
            "142/142 [==============================] - 0s 276us/sample - loss: 0.7087 - accuracy: 0.7887\n",
            "Epoch 68/150\n",
            "142/142 [==============================] - 0s 297us/sample - loss: 0.7347 - accuracy: 0.7254\n",
            "Epoch 69/150\n",
            "142/142 [==============================] - 0s 272us/sample - loss: 0.7188 - accuracy: 0.7183\n",
            "Epoch 70/150\n",
            "142/142 [==============================] - 0s 269us/sample - loss: 0.7133 - accuracy: 0.7817\n",
            "Epoch 71/150\n",
            "142/142 [==============================] - 0s 276us/sample - loss: 0.7365 - accuracy: 0.6761\n",
            "Epoch 72/150\n",
            "142/142 [==============================] - 0s 265us/sample - loss: 0.7491 - accuracy: 0.7183\n",
            "Epoch 73/150\n",
            "142/142 [==============================] - 0s 275us/sample - loss: 0.7067 - accuracy: 0.7394\n",
            "Epoch 74/150\n",
            "142/142 [==============================] - 0s 268us/sample - loss: 0.7583 - accuracy: 0.6549\n",
            "Epoch 75/150\n",
            "142/142 [==============================] - 0s 264us/sample - loss: 0.7473 - accuracy: 0.6901\n",
            "Epoch 76/150\n",
            "142/142 [==============================] - 0s 260us/sample - loss: 0.7180 - accuracy: 0.7394\n",
            "Epoch 77/150\n",
            "142/142 [==============================] - 0s 318us/sample - loss: 0.6813 - accuracy: 0.7465\n",
            "Epoch 78/150\n",
            "142/142 [==============================] - 0s 353us/sample - loss: 0.6771 - accuracy: 0.7465\n",
            "Epoch 79/150\n",
            "142/142 [==============================] - 0s 263us/sample - loss: 0.6768 - accuracy: 0.7535\n",
            "Epoch 80/150\n",
            "142/142 [==============================] - 0s 262us/sample - loss: 0.6505 - accuracy: 0.8732\n",
            "Epoch 81/150\n",
            "142/142 [==============================] - 0s 277us/sample - loss: 0.6833 - accuracy: 0.7324\n",
            "Epoch 82/150\n",
            "142/142 [==============================] - 0s 268us/sample - loss: 0.7136 - accuracy: 0.6831\n",
            "Epoch 83/150\n",
            "142/142 [==============================] - 0s 253us/sample - loss: 0.7527 - accuracy: 0.6408\n",
            "Epoch 84/150\n",
            "142/142 [==============================] - 0s 270us/sample - loss: 0.6937 - accuracy: 0.7324\n",
            "Epoch 85/150\n",
            "142/142 [==============================] - 0s 275us/sample - loss: 0.6435 - accuracy: 0.8099\n",
            "Epoch 86/150\n",
            "142/142 [==============================] - 0s 276us/sample - loss: 0.6481 - accuracy: 0.7465\n",
            "Epoch 87/150\n",
            "142/142 [==============================] - 0s 267us/sample - loss: 0.6225 - accuracy: 0.7746\n",
            "Epoch 88/150\n",
            "142/142 [==============================] - 0s 267us/sample - loss: 0.6265 - accuracy: 0.8099\n",
            "Epoch 89/150\n",
            "142/142 [==============================] - 0s 321us/sample - loss: 0.6745 - accuracy: 0.7324\n",
            "Epoch 90/150\n",
            "142/142 [==============================] - 0s 280us/sample - loss: 0.6339 - accuracy: 0.7394\n",
            "Epoch 91/150\n",
            "142/142 [==============================] - 0s 263us/sample - loss: 0.6366 - accuracy: 0.8169\n",
            "Epoch 92/150\n",
            "142/142 [==============================] - 0s 270us/sample - loss: 0.6170 - accuracy: 0.8028\n",
            "Epoch 93/150\n",
            "142/142 [==============================] - 0s 276us/sample - loss: 0.6993 - accuracy: 0.6901\n",
            "Epoch 94/150\n",
            "142/142 [==============================] - 0s 283us/sample - loss: 0.7453 - accuracy: 0.6549\n",
            "Epoch 95/150\n",
            "142/142 [==============================] - 0s 274us/sample - loss: 0.6685 - accuracy: 0.7535\n",
            "Epoch 96/150\n",
            "142/142 [==============================] - 0s 285us/sample - loss: 0.5985 - accuracy: 0.8451\n",
            "Epoch 97/150\n",
            "142/142 [==============================] - 0s 285us/sample - loss: 0.5993 - accuracy: 0.7746\n",
            "Epoch 98/150\n",
            "142/142 [==============================] - 0s 273us/sample - loss: 0.6494 - accuracy: 0.7324\n",
            "Epoch 99/150\n",
            "142/142 [==============================] - 0s 271us/sample - loss: 0.5663 - accuracy: 0.7887\n",
            "Epoch 100/150\n",
            "142/142 [==============================] - 0s 286us/sample - loss: 0.5710 - accuracy: 0.8521\n",
            "Epoch 101/150\n",
            "142/142 [==============================] - 0s 277us/sample - loss: 0.5752 - accuracy: 0.8592\n",
            "Epoch 102/150\n",
            "142/142 [==============================] - 0s 271us/sample - loss: 0.6414 - accuracy: 0.7183\n",
            "Epoch 103/150\n",
            "142/142 [==============================] - 0s 280us/sample - loss: 0.6265 - accuracy: 0.7535\n",
            "Epoch 104/150\n",
            "142/142 [==============================] - 0s 262us/sample - loss: 0.5609 - accuracy: 0.8521\n",
            "Epoch 105/150\n",
            "142/142 [==============================] - 0s 270us/sample - loss: 0.6242 - accuracy: 0.8028\n",
            "Epoch 106/150\n",
            "142/142 [==============================] - 0s 252us/sample - loss: 0.5600 - accuracy: 0.8944\n",
            "Epoch 107/150\n",
            "142/142 [==============================] - 0s 270us/sample - loss: 0.6070 - accuracy: 0.7183\n",
            "Epoch 108/150\n",
            "142/142 [==============================] - 0s 292us/sample - loss: 0.5450 - accuracy: 0.8169\n",
            "Epoch 109/150\n",
            "142/142 [==============================] - 0s 285us/sample - loss: 0.6232 - accuracy: 0.7535\n",
            "Epoch 110/150\n",
            "142/142 [==============================] - 0s 284us/sample - loss: 0.5437 - accuracy: 0.8592\n",
            "Epoch 111/150\n",
            "142/142 [==============================] - 0s 281us/sample - loss: 0.5394 - accuracy: 0.8451\n",
            "Epoch 112/150\n",
            "142/142 [==============================] - 0s 267us/sample - loss: 0.5340 - accuracy: 0.8099\n",
            "Epoch 113/150\n",
            "142/142 [==============================] - 0s 278us/sample - loss: 0.5122 - accuracy: 0.8732\n",
            "Epoch 114/150\n",
            "142/142 [==============================] - 0s 351us/sample - loss: 0.5247 - accuracy: 0.8592\n",
            "Epoch 115/150\n",
            "142/142 [==============================] - 0s 293us/sample - loss: 0.7199 - accuracy: 0.6761\n",
            "Epoch 116/150\n",
            "142/142 [==============================] - 0s 282us/sample - loss: 0.5386 - accuracy: 0.7958\n",
            "Epoch 117/150\n",
            "142/142 [==============================] - 0s 272us/sample - loss: 0.5082 - accuracy: 0.8451\n",
            "Epoch 118/150\n",
            "142/142 [==============================] - 0s 286us/sample - loss: 0.5266 - accuracy: 0.8662\n",
            "Epoch 119/150\n",
            "142/142 [==============================] - 0s 321us/sample - loss: 0.5044 - accuracy: 0.8521\n",
            "Epoch 120/150\n",
            "142/142 [==============================] - 0s 299us/sample - loss: 0.5547 - accuracy: 0.7817\n",
            "Epoch 121/150\n",
            "142/142 [==============================] - 0s 278us/sample - loss: 0.5299 - accuracy: 0.8169\n",
            "Epoch 122/150\n",
            "142/142 [==============================] - 0s 314us/sample - loss: 0.5356 - accuracy: 0.8028\n",
            "Epoch 123/150\n",
            "142/142 [==============================] - 0s 306us/sample - loss: 0.4875 - accuracy: 0.8803\n",
            "Epoch 124/150\n",
            "142/142 [==============================] - 0s 264us/sample - loss: 0.5351 - accuracy: 0.7958\n",
            "Epoch 125/150\n",
            "142/142 [==============================] - 0s 270us/sample - loss: 0.4751 - accuracy: 0.9014\n",
            "Epoch 126/150\n",
            "142/142 [==============================] - 0s 277us/sample - loss: 0.4805 - accuracy: 0.8732\n",
            "Epoch 127/150\n",
            "142/142 [==============================] - 0s 312us/sample - loss: 0.4934 - accuracy: 0.8662\n",
            "Epoch 128/150\n",
            "142/142 [==============================] - 0s 377us/sample - loss: 0.5523 - accuracy: 0.7887\n",
            "Epoch 129/150\n",
            "142/142 [==============================] - 0s 393us/sample - loss: 0.6544 - accuracy: 0.7183\n",
            "Epoch 130/150\n",
            "142/142 [==============================] - 0s 426us/sample - loss: 0.5292 - accuracy: 0.7958\n",
            "Epoch 131/150\n",
            "142/142 [==============================] - 0s 360us/sample - loss: 0.4746 - accuracy: 0.8451\n",
            "Epoch 132/150\n",
            "142/142 [==============================] - 0s 320us/sample - loss: 0.5202 - accuracy: 0.8099\n",
            "Epoch 133/150\n",
            "142/142 [==============================] - 0s 270us/sample - loss: 0.4655 - accuracy: 0.9014\n",
            "Epoch 134/150\n",
            "142/142 [==============================] - 0s 292us/sample - loss: 0.4728 - accuracy: 0.8521\n",
            "Epoch 135/150\n",
            "142/142 [==============================] - 0s 273us/sample - loss: 0.4737 - accuracy: 0.8592\n",
            "Epoch 136/150\n",
            "142/142 [==============================] - 0s 298us/sample - loss: 0.4974 - accuracy: 0.8380\n",
            "Epoch 137/150\n",
            "142/142 [==============================] - 0s 279us/sample - loss: 0.5045 - accuracy: 0.8099\n",
            "Epoch 138/150\n",
            "142/142 [==============================] - 0s 296us/sample - loss: 0.5767 - accuracy: 0.7394\n",
            "Epoch 139/150\n",
            "142/142 [==============================] - 0s 271us/sample - loss: 0.5518 - accuracy: 0.8169\n",
            "Epoch 140/150\n",
            "142/142 [==============================] - 0s 270us/sample - loss: 0.4693 - accuracy: 0.8592\n",
            "Epoch 141/150\n",
            "142/142 [==============================] - 0s 262us/sample - loss: 0.4644 - accuracy: 0.9085\n",
            "Epoch 142/150\n",
            "142/142 [==============================] - 0s 284us/sample - loss: 0.4646 - accuracy: 0.8662\n",
            "Epoch 143/150\n",
            "142/142 [==============================] - 0s 308us/sample - loss: 0.4710 - accuracy: 0.8521\n",
            "Epoch 144/150\n",
            "142/142 [==============================] - 0s 303us/sample - loss: 0.4213 - accuracy: 0.8732\n",
            "Epoch 145/150\n",
            "142/142 [==============================] - 0s 258us/sample - loss: 0.5033 - accuracy: 0.8169\n",
            "Epoch 146/150\n",
            "142/142 [==============================] - 0s 266us/sample - loss: 0.5375 - accuracy: 0.8028\n",
            "Epoch 147/150\n",
            "142/142 [==============================] - 0s 276us/sample - loss: 0.4844 - accuracy: 0.8239\n",
            "Epoch 148/150\n",
            "142/142 [==============================] - 0s 261us/sample - loss: 0.4565 - accuracy: 0.8592\n",
            "Epoch 149/150\n",
            "142/142 [==============================] - 0s 253us/sample - loss: 0.4194 - accuracy: 0.8944\n",
            "Epoch 150/150\n",
            "142/142 [==============================] - 0s 266us/sample - loss: 0.4128 - accuracy: 0.8803\n"
          ],
          "name": "stdout"
        },
        {
          "output_type": "execute_result",
          "data": {
            "text/plain": [
              "<tensorflow.python.keras.callbacks.History at 0x7f44703a4748>"
            ]
          },
          "metadata": {
            "tags": []
          },
          "execution_count": 81
        }
      ]
    },
    {
      "cell_type": "code",
      "metadata": {
        "id": "p7gYl0Y8ZQ6Z",
        "colab_type": "code",
        "outputId": "9cba6296-2f5b-4198-f638-11ae9724fc07",
        "colab": {
          "base_uri": "https://localhost:8080/",
          "height": 68
        }
      },
      "source": [
        "score = model.evaluate(x_test, y_test_cat, verbose=1)\n",
        "\n",
        "print(\"Test Score:\", score[0])\n",
        "print(\"Test Accuracy:\", score[1])"
      ],
      "execution_count": 82,
      "outputs": [
        {
          "output_type": "stream",
          "text": [
            "36/36 [==============================] - 0s 2ms/sample - loss: 0.4250 - accuracy: 0.8333\n",
            "Test Score: 0.42503970199161106\n",
            "Test Accuracy: 0.8333333\n"
          ],
          "name": "stdout"
        }
      ]
    },
    {
      "cell_type": "code",
      "metadata": {
        "id": "SrZtS6SHhiw8",
        "colab_type": "code",
        "colab": {
          "base_uri": "https://localhost:8080/",
          "height": 68
        },
        "outputId": "4722be84-6290-41fb-a015-70a84b060b70"
      },
      "source": [
        "score = model.evaluate(x_train, y_train_cat, verbose=1)\n",
        "\n",
        "print(\"Train Score:\", score[0])\n",
        "print(\"Train Accuracy:\", score[1])"
      ],
      "execution_count": 83,
      "outputs": [
        {
          "output_type": "stream",
          "text": [
            "142/142 [==============================] - 0s 101us/sample - loss: 0.4767 - accuracy: 0.8239\n",
            "Train Score: 0.4766533681204621\n",
            "Train Accuracy: 0.8239437\n"
          ],
          "name": "stdout"
        }
      ]
    },
    {
      "cell_type": "code",
      "metadata": {
        "id": "JW8hzVYGGLSz",
        "colab_type": "code",
        "colab": {}
      },
      "source": [
        ""
      ],
      "execution_count": 0,
      "outputs": []
    }
  ]
}